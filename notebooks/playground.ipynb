{
 "cells": [
  {
   "cell_type": "code",
   "execution_count": 2,
   "id": "b63613a8",
   "metadata": {
    "ExecuteTime": {
     "end_time": "2022-08-15T13:48:21.434261Z",
     "start_time": "2022-08-15T13:48:21.027156Z"
    }
   },
   "outputs": [],
   "source": [
    "%matplotlib inline\n",
    "%reload_ext autoreload\n",
    "%autoreload 2"
   ]
  },
  {
   "cell_type": "markdown",
   "id": "dc7f4ea7",
   "metadata": {},
   "source": [
    "# Load requirements"
   ]
  },
  {
   "cell_type": "code",
   "execution_count": 38,
   "id": "ee1853f9",
   "metadata": {
    "ExecuteTime": {
     "end_time": "2022-08-15T14:05:56.162909Z",
     "start_time": "2022-08-15T14:05:56.153813Z"
    }
   },
   "outputs": [],
   "source": [
    "import pandas as pd\n",
    "import pathlib\n",
    "import matplotlib as pyplt\n",
    "import cv2\n",
    "import os\n",
    "import ssl\n",
    "import traceback\n",
    "import logging\n",
    "from tqdm import tqdm\n",
    "import urllib\n",
    "import ipdb\n",
    "\n",
    "from sklearn.cluster import KMeans\n",
    "import numpy as np\n",
    "from collections import Counter\n",
    "from skimage.color import rgb2lab, deltaE_cie76"
   ]
  },
  {
   "cell_type": "code",
   "execution_count": 3,
   "id": "8ef70be2",
   "metadata": {
    "ExecuteTime": {
     "end_time": "2022-08-06T08:58:34.071383Z",
     "start_time": "2022-08-06T08:58:34.053111Z"
    },
    "scrolled": true
   },
   "outputs": [],
   "source": [
    "#DATA_DIR = os.path.join(os.path.dirname (\"__file__\"), os.path.pardir)\n",
    "\n",
    "#os.chdir(DATA_DIR)\n",
    "# print(f\"the root directory is {ROOT_DIR}\")\n",
    "# print(f\"the data directory is {DATA_DIR}\")\n",
    "# os.chdir(DATA_DIR)\n",
    "# !ls"
   ]
  },
  {
   "cell_type": "code",
   "execution_count": 20,
   "id": "6835847f",
   "metadata": {
    "ExecuteTime": {
     "end_time": "2022-08-15T13:59:07.400970Z",
     "start_time": "2022-08-15T13:59:07.386199Z"
    }
   },
   "outputs": [],
   "source": [
    "def get_data():\n",
    "    # use a subset of data from WikiArt for training\n",
    "    !curl -O http://saifmohammad.com/WebDocs/WikiArt-Emotions.zip\n",
    "    !unzip -o WikiArt-Emotions.zip\n",
    "    !rm WikiArt-Emotions.zip\n",
    "    !mv WikiArt-Emotions ../raw_data/WikiArt-Emotions\n",
    "    !ls\n",
    "    ROOT_DIR = os.path.join(os.path.dirname (\"__file__\"), os.path.pardir)\n",
    "    DATA_DIR = os.path.join(ROOT_DIR, \"raw_data\")\n",
    "    os.chdir(DATA_DIR)\n",
    "    PATH = pathlib.Path('WikiArt-Emotions')\n",
    "    !ls\n",
    "    df = pd.read_csv('WikiArt-Emotions/WikiArt-info.tsv', delimiter='\\t'); df.head()\n",
    "    return df, DATA_DIR, PATH"
   ]
  },
  {
   "cell_type": "code",
   "execution_count": 21,
   "id": "32af6ac2",
   "metadata": {
    "ExecuteTime": {
     "end_time": "2022-08-15T13:59:32.055572Z",
     "start_time": "2022-08-15T13:59:22.136658Z"
    }
   },
   "outputs": [
    {
     "name": "stdout",
     "output_type": "stream",
     "text": [
      "  % Total    % Received % Xferd  Average Speed   Time    Time     Time  Current\n",
      "                                 Dload  Upload   Total   Spent    Left  Speed\n",
      "100 1901k  100 1901k    0     0   619k      0  0:00:03  0:00:03 --:--:--  619k\n",
      "Archive:  WikiArt-Emotions.zip\n",
      "  inflating: __MACOSX/._WikiArt-Emotions  \n",
      "  inflating: WikiArt-Emotions/WikiArt-Emotions-All.tsv  \n",
      "  inflating: __MACOSX/WikiArt-Emotions/._WikiArt-Emotions-All.tsv  \n",
      "  inflating: WikiArt-Emotions/WikiArt-annotations.csv  \n",
      "  inflating: __MACOSX/WikiArt-Emotions/._WikiArt-annotations.csv  \n",
      "  inflating: WikiArt-Emotions/WikiArt-info.tsv  \n",
      "  inflating: __MACOSX/WikiArt-Emotions/._WikiArt-info.tsv  \n",
      "  inflating: WikiArt-Emotions/README.txt  \n",
      "  inflating: __MACOSX/WikiArt-Emotions/._README.txt  \n",
      "  inflating: WikiArt-Emotions/WikiArt-Emotions-Ag5.tsv  \n",
      "  inflating: __MACOSX/WikiArt-Emotions/._WikiArt-Emotions-Ag5.tsv  \n",
      "  inflating: WikiArt-Emotions/WikiArt-Emotions-Ag4.tsv  \n",
      "  inflating: __MACOSX/WikiArt-Emotions/._WikiArt-Emotions-Ag4.tsv  \n",
      "  inflating: WikiArt-Emotions/WikiArt-Emotions-Ag3.tsv  \n",
      "  inflating: __MACOSX/WikiArt-Emotions/._WikiArt-Emotions-Ag3.tsv  \n",
      "mv: cannot move 'WikiArt-Emotions' to a subdirectory of itself, '../raw_data/WikiArt-Emotions/WikiArt-Emotions'\n",
      "WikiArt-Emotions  __MACOSX\n",
      "WikiArt-Emotions  __MACOSX\n",
      "  % Total    % Received % Xferd  Average Speed   Time    Time     Time  Current\n",
      "                                 Dload  Upload   Total   Spent    Left  Speed\n",
      "100 1901k  100 1901k    0     0   801k      0  0:00:02  0:00:02 --:--:--  801k\n",
      "Archive:  WikiArt-Emotions.zip\n",
      "  inflating: __MACOSX/._WikiArt-Emotions  \n",
      "  inflating: WikiArt-Emotions/WikiArt-Emotions-All.tsv  \n",
      "  inflating: __MACOSX/WikiArt-Emotions/._WikiArt-Emotions-All.tsv  \n",
      "  inflating: WikiArt-Emotions/WikiArt-annotations.csv  \n",
      "  inflating: __MACOSX/WikiArt-Emotions/._WikiArt-annotations.csv  \n",
      "  inflating: WikiArt-Emotions/WikiArt-info.tsv  \n",
      "  inflating: __MACOSX/WikiArt-Emotions/._WikiArt-info.tsv  \n",
      "  inflating: WikiArt-Emotions/README.txt  \n",
      "  inflating: __MACOSX/WikiArt-Emotions/._README.txt  \n",
      "  inflating: WikiArt-Emotions/WikiArt-Emotions-Ag5.tsv  \n",
      "  inflating: __MACOSX/WikiArt-Emotions/._WikiArt-Emotions-Ag5.tsv  \n",
      "  inflating: WikiArt-Emotions/WikiArt-Emotions-Ag4.tsv  \n",
      "  inflating: __MACOSX/WikiArt-Emotions/._WikiArt-Emotions-Ag4.tsv  \n",
      "  inflating: WikiArt-Emotions/WikiArt-Emotions-Ag3.tsv  \n",
      "  inflating: __MACOSX/WikiArt-Emotions/._WikiArt-Emotions-Ag3.tsv  \n",
      "mv: cannot move 'WikiArt-Emotions' to a subdirectory of itself, '../raw_data/WikiArt-Emotions/WikiArt-Emotions'\n",
      "WikiArt-Emotions  __MACOSX\n",
      "WikiArt-Emotions  __MACOSX\n",
      "  % Total    % Received % Xferd  Average Speed   Time    Time     Time  Current\n",
      "                                 Dload  Upload   Total   Spent    Left  Speed\n",
      "100 1901k  100 1901k    0     0   806k      0  0:00:02  0:00:02 --:--:--  805k\n",
      "Archive:  WikiArt-Emotions.zip\n",
      "  inflating: __MACOSX/._WikiArt-Emotions  \n",
      "  inflating: WikiArt-Emotions/WikiArt-Emotions-All.tsv  \n",
      "  inflating: __MACOSX/WikiArt-Emotions/._WikiArt-Emotions-All.tsv  \n",
      "  inflating: WikiArt-Emotions/WikiArt-annotations.csv  \n",
      "  inflating: __MACOSX/WikiArt-Emotions/._WikiArt-annotations.csv  \n",
      "  inflating: WikiArt-Emotions/WikiArt-info.tsv  \n",
      "  inflating: __MACOSX/WikiArt-Emotions/._WikiArt-info.tsv  \n",
      "  inflating: WikiArt-Emotions/README.txt  \n",
      "  inflating: __MACOSX/WikiArt-Emotions/._README.txt  \n",
      "  inflating: WikiArt-Emotions/WikiArt-Emotions-Ag5.tsv  \n",
      "  inflating: __MACOSX/WikiArt-Emotions/._WikiArt-Emotions-Ag5.tsv  \n",
      "  inflating: WikiArt-Emotions/WikiArt-Emotions-Ag4.tsv  \n",
      "  inflating: __MACOSX/WikiArt-Emotions/._WikiArt-Emotions-Ag4.tsv  \n",
      "  inflating: WikiArt-Emotions/WikiArt-Emotions-Ag3.tsv  \n",
      "  inflating: __MACOSX/WikiArt-Emotions/._WikiArt-Emotions-Ag3.tsv  \n",
      "mv: cannot move 'WikiArt-Emotions' to a subdirectory of itself, '../raw_data/WikiArt-Emotions/WikiArt-Emotions'\n",
      "WikiArt-Emotions  __MACOSX\n",
      "WikiArt-Emotions  __MACOSX\n"
     ]
    }
   ],
   "source": [
    "df = get_data()[0]\n",
    "DATA_DIR = get_data()[1]\n",
    "PATH = get_data()[2]"
   ]
  },
  {
   "cell_type": "code",
   "execution_count": 22,
   "id": "5187b7e0",
   "metadata": {
    "ExecuteTime": {
     "end_time": "2022-08-15T13:59:34.614161Z",
     "start_time": "2022-08-15T13:59:34.603454Z"
    }
   },
   "outputs": [
    {
     "data": {
      "text/plain": [
       "PosixPath('WikiArt-Emotions')"
      ]
     },
     "execution_count": 22,
     "metadata": {},
     "output_type": "execute_result"
    }
   ],
   "source": [
    "#df.head()\n",
    "PATH"
   ]
  },
  {
   "cell_type": "code",
   "execution_count": 29,
   "id": "4942b94b",
   "metadata": {
    "ExecuteTime": {
     "end_time": "2022-08-15T14:00:58.716732Z",
     "start_time": "2022-08-15T14:00:58.704968Z"
    }
   },
   "outputs": [
    {
     "data": {
      "text/plain": [
       "['https://uploads3.wikiart.org/00123/images/charles-courtney-curran/in-the-luxembourg-garden-1889.jpg',\n",
       " 'https://uploads1.wikiart.org/images/keith-haring/the-marriage-of-heaven-and-hell-1984.jpg',\n",
       " 'https://uploads3.wikiart.org/images/j-zsef-rippl-r-nai/uncle-piacsek-in-front-of-the-black-sideboard-1906.jpg',\n",
       " 'https://uploads2.wikiart.org/00124/images/vadym-meller/monk-for-the-play-mazeppa-1920.jpg',\n",
       " 'https://uploads6.wikiart.org/images/david-wilkie/the-defence-of-sarago-a.jpg']"
      ]
     },
     "execution_count": 29,
     "metadata": {},
     "output_type": "execute_result"
    }
   ],
   "source": [
    "urls = df['Image URL'].tolist(); urls[:5]"
   ]
  },
  {
   "cell_type": "markdown",
   "id": "ae3f36c0",
   "metadata": {},
   "source": [
    "## Download images"
   ]
  },
  {
   "cell_type": "code",
   "execution_count": 37,
   "id": "8ccfc7cb",
   "metadata": {
    "ExecuteTime": {
     "end_time": "2022-08-15T14:05:25.835015Z",
     "start_time": "2022-08-15T14:05:25.823812Z"
    }
   },
   "outputs": [
    {
     "name": "stdout",
     "output_type": "stream",
     "text": [
      "WikiArt-Emotions/images\n"
     ]
    }
   ],
   "source": [
    "IMG_DIR = PATH/'images'\n",
    "IMG_DIR.mkdir(parents=True, exist_ok=True)\n",
    "print(IMG_DIR)"
   ]
  },
  {
   "cell_type": "code",
   "execution_count": 39,
   "id": "09c9454a",
   "metadata": {
    "ExecuteTime": {
     "end_time": "2022-08-15T14:06:29.097831Z",
     "start_time": "2022-08-15T14:06:29.087214Z"
    }
   },
   "outputs": [],
   "source": [
    "# ignore SSL errors\n",
    "ssl._create_default_https_context = ssl._create_unverified_context\n",
    "\n",
    "def download(path, urls):\n",
    "    for url in tqdm(urls):\n",
    "        try:\n",
    "            fname = url[url.rfind('/')+1:]\n",
    "            urllib.request.urlretrieve(url, path/fname)\n",
    "        except Exception as e:\n",
    "            logging.error(traceback.format_exc())"
   ]
  },
  {
   "cell_type": "code",
   "execution_count": 40,
   "id": "dbb9d7b8",
   "metadata": {
    "ExecuteTime": {
     "end_time": "2022-08-15T15:45:05.402954Z",
     "start_time": "2022-08-15T14:06:30.562930Z"
    }
   },
   "outputs": [
    {
     "name": "stderr",
     "output_type": "stream",
     "text": [
      "  2%|█▊                                                                             | 92/4119 [02:01<1:23:48,  1.25s/it]ERROR:root:Traceback (most recent call last):\n",
      "  File \"/tmp/ipykernel_1884/2130755272.py\", line 8, in download\n",
      "    urllib.request.urlretrieve(url, path/fname)\n",
      "  File \"/home/erniesg/.pyenv/versions/3.8.12/lib/python3.8/urllib/request.py\", line 247, in urlretrieve\n",
      "    with contextlib.closing(urlopen(url, data)) as fp:\n",
      "  File \"/home/erniesg/.pyenv/versions/3.8.12/lib/python3.8/urllib/request.py\", line 222, in urlopen\n",
      "    return opener.open(url, data, timeout)\n",
      "  File \"/home/erniesg/.pyenv/versions/3.8.12/lib/python3.8/urllib/request.py\", line 525, in open\n",
      "    response = self._open(req, data)\n",
      "  File \"/home/erniesg/.pyenv/versions/3.8.12/lib/python3.8/urllib/request.py\", line 542, in _open\n",
      "    result = self._call_chain(self.handle_open, protocol, protocol +\n",
      "  File \"/home/erniesg/.pyenv/versions/3.8.12/lib/python3.8/urllib/request.py\", line 502, in _call_chain\n",
      "    result = func(*args)\n",
      "  File \"/home/erniesg/.pyenv/versions/3.8.12/lib/python3.8/urllib/request.py\", line 1397, in https_open\n",
      "    return self.do_open(http.client.HTTPSConnection, req,\n",
      "  File \"/home/erniesg/.pyenv/versions/3.8.12/lib/python3.8/urllib/request.py\", line 1354, in do_open\n",
      "    h.request(req.get_method(), req.selector, req.data, headers,\n",
      "  File \"/home/erniesg/.pyenv/versions/3.8.12/lib/python3.8/http/client.py\", line 1256, in request\n",
      "    self._send_request(method, url, body, headers, encode_chunked)\n",
      "  File \"/home/erniesg/.pyenv/versions/3.8.12/lib/python3.8/http/client.py\", line 1267, in _send_request\n",
      "    self.putrequest(method, url, **skips)\n",
      "  File \"/home/erniesg/.pyenv/versions/3.8.12/lib/python3.8/http/client.py\", line 1105, in putrequest\n",
      "    self._output(self._encode_request(request))\n",
      "  File \"/home/erniesg/.pyenv/versions/3.8.12/lib/python3.8/http/client.py\", line 1185, in _encode_request\n",
      "    return request.encode('ascii')\n",
      "UnicodeEncodeError: 'ascii' codec can't encode character '\\xf3' in position 50: ordinal not in range(128)\n",
      "\n",
      " 10%|███████▍                                                                      | 395/4119 [09:01<1:40:27,  1.62s/it]ERROR:root:Traceback (most recent call last):\n",
      "  File \"/tmp/ipykernel_1884/2130755272.py\", line 8, in download\n",
      "    urllib.request.urlretrieve(url, path/fname)\n",
      "  File \"/home/erniesg/.pyenv/versions/3.8.12/lib/python3.8/urllib/request.py\", line 247, in urlretrieve\n",
      "    with contextlib.closing(urlopen(url, data)) as fp:\n",
      "  File \"/home/erniesg/.pyenv/versions/3.8.12/lib/python3.8/urllib/request.py\", line 222, in urlopen\n",
      "    return opener.open(url, data, timeout)\n",
      "  File \"/home/erniesg/.pyenv/versions/3.8.12/lib/python3.8/urllib/request.py\", line 525, in open\n",
      "    response = self._open(req, data)\n",
      "  File \"/home/erniesg/.pyenv/versions/3.8.12/lib/python3.8/urllib/request.py\", line 542, in _open\n",
      "    result = self._call_chain(self.handle_open, protocol, protocol +\n",
      "  File \"/home/erniesg/.pyenv/versions/3.8.12/lib/python3.8/urllib/request.py\", line 502, in _call_chain\n",
      "    result = func(*args)\n",
      "  File \"/home/erniesg/.pyenv/versions/3.8.12/lib/python3.8/urllib/request.py\", line 1397, in https_open\n",
      "    return self.do_open(http.client.HTTPSConnection, req,\n",
      "  File \"/home/erniesg/.pyenv/versions/3.8.12/lib/python3.8/urllib/request.py\", line 1354, in do_open\n",
      "    h.request(req.get_method(), req.selector, req.data, headers,\n",
      "  File \"/home/erniesg/.pyenv/versions/3.8.12/lib/python3.8/http/client.py\", line 1256, in request\n",
      "    self._send_request(method, url, body, headers, encode_chunked)\n",
      "  File \"/home/erniesg/.pyenv/versions/3.8.12/lib/python3.8/http/client.py\", line 1267, in _send_request\n",
      "    self.putrequest(method, url, **skips)\n",
      "  File \"/home/erniesg/.pyenv/versions/3.8.12/lib/python3.8/http/client.py\", line 1105, in putrequest\n",
      "    self._output(self._encode_request(request))\n",
      "  File \"/home/erniesg/.pyenv/versions/3.8.12/lib/python3.8/http/client.py\", line 1185, in _encode_request\n",
      "    return request.encode('ascii')\n",
      "UnicodeEncodeError: 'ascii' codec can't encode character '\\xfc' in position 23: ordinal not in range(128)\n",
      "\n",
      " 14%|███████████                                                                   | 581/4119 [13:38<1:00:37,  1.03s/it]ERROR:root:Traceback (most recent call last):\n",
      "  File \"/tmp/ipykernel_1884/2130755272.py\", line 8, in download\n",
      "    urllib.request.urlretrieve(url, path/fname)\n",
      "  File \"/home/erniesg/.pyenv/versions/3.8.12/lib/python3.8/urllib/request.py\", line 247, in urlretrieve\n",
      "    with contextlib.closing(urlopen(url, data)) as fp:\n",
      "  File \"/home/erniesg/.pyenv/versions/3.8.12/lib/python3.8/urllib/request.py\", line 222, in urlopen\n",
      "    return opener.open(url, data, timeout)\n",
      "  File \"/home/erniesg/.pyenv/versions/3.8.12/lib/python3.8/urllib/request.py\", line 525, in open\n",
      "    response = self._open(req, data)\n",
      "  File \"/home/erniesg/.pyenv/versions/3.8.12/lib/python3.8/urllib/request.py\", line 542, in _open\n",
      "    result = self._call_chain(self.handle_open, protocol, protocol +\n",
      "  File \"/home/erniesg/.pyenv/versions/3.8.12/lib/python3.8/urllib/request.py\", line 502, in _call_chain\n",
      "    result = func(*args)\n",
      "  File \"/home/erniesg/.pyenv/versions/3.8.12/lib/python3.8/urllib/request.py\", line 1397, in https_open\n",
      "    return self.do_open(http.client.HTTPSConnection, req,\n",
      "  File \"/home/erniesg/.pyenv/versions/3.8.12/lib/python3.8/urllib/request.py\", line 1354, in do_open\n",
      "    h.request(req.get_method(), req.selector, req.data, headers,\n",
      "  File \"/home/erniesg/.pyenv/versions/3.8.12/lib/python3.8/http/client.py\", line 1256, in request\n",
      "    self._send_request(method, url, body, headers, encode_chunked)\n",
      "  File \"/home/erniesg/.pyenv/versions/3.8.12/lib/python3.8/http/client.py\", line 1267, in _send_request\n",
      "    self.putrequest(method, url, **skips)\n",
      "  File \"/home/erniesg/.pyenv/versions/3.8.12/lib/python3.8/http/client.py\", line 1105, in putrequest\n",
      "    self._output(self._encode_request(request))\n",
      "  File \"/home/erniesg/.pyenv/versions/3.8.12/lib/python3.8/http/client.py\", line 1185, in _encode_request\n",
      "    return request.encode('ascii')\n",
      "UnicodeEncodeError: 'ascii' codec can't encode character '\\xf3' in position 50: ordinal not in range(128)\n",
      "\n",
      " 14%|███████████                                                                   | 583/4119 [13:41<1:12:28,  1.23s/it]ERROR:root:Traceback (most recent call last):\n",
      "  File \"/tmp/ipykernel_1884/2130755272.py\", line 8, in download\n",
      "    urllib.request.urlretrieve(url, path/fname)\n",
      "  File \"/home/erniesg/.pyenv/versions/3.8.12/lib/python3.8/urllib/request.py\", line 247, in urlretrieve\n",
      "    with contextlib.closing(urlopen(url, data)) as fp:\n",
      "  File \"/home/erniesg/.pyenv/versions/3.8.12/lib/python3.8/urllib/request.py\", line 222, in urlopen\n",
      "    return opener.open(url, data, timeout)\n",
      "  File \"/home/erniesg/.pyenv/versions/3.8.12/lib/python3.8/urllib/request.py\", line 525, in open\n",
      "    response = self._open(req, data)\n",
      "  File \"/home/erniesg/.pyenv/versions/3.8.12/lib/python3.8/urllib/request.py\", line 542, in _open\n",
      "    result = self._call_chain(self.handle_open, protocol, protocol +\n",
      "  File \"/home/erniesg/.pyenv/versions/3.8.12/lib/python3.8/urllib/request.py\", line 502, in _call_chain\n",
      "    result = func(*args)\n",
      "  File \"/home/erniesg/.pyenv/versions/3.8.12/lib/python3.8/urllib/request.py\", line 1397, in https_open\n",
      "    return self.do_open(http.client.HTTPSConnection, req,\n",
      "  File \"/home/erniesg/.pyenv/versions/3.8.12/lib/python3.8/urllib/request.py\", line 1354, in do_open\n",
      "    h.request(req.get_method(), req.selector, req.data, headers,\n",
      "  File \"/home/erniesg/.pyenv/versions/3.8.12/lib/python3.8/http/client.py\", line 1256, in request\n",
      "    self._send_request(method, url, body, headers, encode_chunked)\n",
      "  File \"/home/erniesg/.pyenv/versions/3.8.12/lib/python3.8/http/client.py\", line 1267, in _send_request\n",
      "    self.putrequest(method, url, **skips)\n",
      "  File \"/home/erniesg/.pyenv/versions/3.8.12/lib/python3.8/http/client.py\", line 1105, in putrequest\n",
      "    self._output(self._encode_request(request))\n",
      "  File \"/home/erniesg/.pyenv/versions/3.8.12/lib/python3.8/http/client.py\", line 1185, in _encode_request\n",
      "    return request.encode('ascii')\n",
      "UnicodeEncodeError: 'ascii' codec can't encode character '\\xfc' in position 23: ordinal not in range(128)\n",
      "\n"
     ]
    },
    {
     "name": "stderr",
     "output_type": "stream",
     "text": [
      " 16%|████████████▏                                                                 | 642/4119 [15:03<1:17:28,  1.34s/it]ERROR:root:Traceback (most recent call last):\n",
      "  File \"/tmp/ipykernel_1884/2130755272.py\", line 8, in download\n",
      "    urllib.request.urlretrieve(url, path/fname)\n",
      "  File \"/home/erniesg/.pyenv/versions/3.8.12/lib/python3.8/urllib/request.py\", line 247, in urlretrieve\n",
      "    with contextlib.closing(urlopen(url, data)) as fp:\n",
      "  File \"/home/erniesg/.pyenv/versions/3.8.12/lib/python3.8/urllib/request.py\", line 222, in urlopen\n",
      "    return opener.open(url, data, timeout)\n",
      "  File \"/home/erniesg/.pyenv/versions/3.8.12/lib/python3.8/urllib/request.py\", line 525, in open\n",
      "    response = self._open(req, data)\n",
      "  File \"/home/erniesg/.pyenv/versions/3.8.12/lib/python3.8/urllib/request.py\", line 542, in _open\n",
      "    result = self._call_chain(self.handle_open, protocol, protocol +\n",
      "  File \"/home/erniesg/.pyenv/versions/3.8.12/lib/python3.8/urllib/request.py\", line 502, in _call_chain\n",
      "    result = func(*args)\n",
      "  File \"/home/erniesg/.pyenv/versions/3.8.12/lib/python3.8/urllib/request.py\", line 1397, in https_open\n",
      "    return self.do_open(http.client.HTTPSConnection, req,\n",
      "  File \"/home/erniesg/.pyenv/versions/3.8.12/lib/python3.8/urllib/request.py\", line 1354, in do_open\n",
      "    h.request(req.get_method(), req.selector, req.data, headers,\n",
      "  File \"/home/erniesg/.pyenv/versions/3.8.12/lib/python3.8/http/client.py\", line 1256, in request\n",
      "    self._send_request(method, url, body, headers, encode_chunked)\n",
      "  File \"/home/erniesg/.pyenv/versions/3.8.12/lib/python3.8/http/client.py\", line 1267, in _send_request\n",
      "    self.putrequest(method, url, **skips)\n",
      "  File \"/home/erniesg/.pyenv/versions/3.8.12/lib/python3.8/http/client.py\", line 1105, in putrequest\n",
      "    self._output(self._encode_request(request))\n",
      "  File \"/home/erniesg/.pyenv/versions/3.8.12/lib/python3.8/http/client.py\", line 1185, in _encode_request\n",
      "    return request.encode('ascii')\n",
      "UnicodeEncodeError: 'ascii' codec can't encode character '\\xea' in position 23: ordinal not in range(128)\n",
      "\n",
      " 17%|█████████████▏                                                                | 697/4119 [16:18<1:37:34,  1.71s/it]ERROR:root:Traceback (most recent call last):\n",
      "  File \"/tmp/ipykernel_1884/2130755272.py\", line 8, in download\n",
      "    urllib.request.urlretrieve(url, path/fname)\n",
      "  File \"/home/erniesg/.pyenv/versions/3.8.12/lib/python3.8/urllib/request.py\", line 247, in urlretrieve\n",
      "    with contextlib.closing(urlopen(url, data)) as fp:\n",
      "  File \"/home/erniesg/.pyenv/versions/3.8.12/lib/python3.8/urllib/request.py\", line 222, in urlopen\n",
      "    return opener.open(url, data, timeout)\n",
      "  File \"/home/erniesg/.pyenv/versions/3.8.12/lib/python3.8/urllib/request.py\", line 525, in open\n",
      "    response = self._open(req, data)\n",
      "  File \"/home/erniesg/.pyenv/versions/3.8.12/lib/python3.8/urllib/request.py\", line 542, in _open\n",
      "    result = self._call_chain(self.handle_open, protocol, protocol +\n",
      "  File \"/home/erniesg/.pyenv/versions/3.8.12/lib/python3.8/urllib/request.py\", line 502, in _call_chain\n",
      "    result = func(*args)\n",
      "  File \"/home/erniesg/.pyenv/versions/3.8.12/lib/python3.8/urllib/request.py\", line 1397, in https_open\n",
      "    return self.do_open(http.client.HTTPSConnection, req,\n",
      "  File \"/home/erniesg/.pyenv/versions/3.8.12/lib/python3.8/urllib/request.py\", line 1354, in do_open\n",
      "    h.request(req.get_method(), req.selector, req.data, headers,\n",
      "  File \"/home/erniesg/.pyenv/versions/3.8.12/lib/python3.8/http/client.py\", line 1256, in request\n",
      "    self._send_request(method, url, body, headers, encode_chunked)\n",
      "  File \"/home/erniesg/.pyenv/versions/3.8.12/lib/python3.8/http/client.py\", line 1267, in _send_request\n",
      "    self.putrequest(method, url, **skips)\n",
      "  File \"/home/erniesg/.pyenv/versions/3.8.12/lib/python3.8/http/client.py\", line 1105, in putrequest\n",
      "    self._output(self._encode_request(request))\n",
      "  File \"/home/erniesg/.pyenv/versions/3.8.12/lib/python3.8/http/client.py\", line 1185, in _encode_request\n",
      "    return request.encode('ascii')\n",
      "UnicodeEncodeError: 'ascii' codec can't encode character '\\xfc' in position 23: ordinal not in range(128)\n",
      "\n",
      " 17%|█████████████▍                                                                | 712/4119 [16:38<1:19:29,  1.40s/it]ERROR:root:Traceback (most recent call last):\n",
      "  File \"/tmp/ipykernel_1884/2130755272.py\", line 8, in download\n",
      "    urllib.request.urlretrieve(url, path/fname)\n",
      "  File \"/home/erniesg/.pyenv/versions/3.8.12/lib/python3.8/urllib/request.py\", line 247, in urlretrieve\n",
      "    with contextlib.closing(urlopen(url, data)) as fp:\n",
      "  File \"/home/erniesg/.pyenv/versions/3.8.12/lib/python3.8/urllib/request.py\", line 222, in urlopen\n",
      "    return opener.open(url, data, timeout)\n",
      "  File \"/home/erniesg/.pyenv/versions/3.8.12/lib/python3.8/urllib/request.py\", line 525, in open\n",
      "    response = self._open(req, data)\n",
      "  File \"/home/erniesg/.pyenv/versions/3.8.12/lib/python3.8/urllib/request.py\", line 542, in _open\n",
      "    result = self._call_chain(self.handle_open, protocol, protocol +\n",
      "  File \"/home/erniesg/.pyenv/versions/3.8.12/lib/python3.8/urllib/request.py\", line 502, in _call_chain\n",
      "    result = func(*args)\n",
      "  File \"/home/erniesg/.pyenv/versions/3.8.12/lib/python3.8/urllib/request.py\", line 1397, in https_open\n",
      "    return self.do_open(http.client.HTTPSConnection, req,\n",
      "  File \"/home/erniesg/.pyenv/versions/3.8.12/lib/python3.8/urllib/request.py\", line 1354, in do_open\n",
      "    h.request(req.get_method(), req.selector, req.data, headers,\n",
      "  File \"/home/erniesg/.pyenv/versions/3.8.12/lib/python3.8/http/client.py\", line 1256, in request\n",
      "    self._send_request(method, url, body, headers, encode_chunked)\n",
      "  File \"/home/erniesg/.pyenv/versions/3.8.12/lib/python3.8/http/client.py\", line 1267, in _send_request\n",
      "    self.putrequest(method, url, **skips)\n",
      "  File \"/home/erniesg/.pyenv/versions/3.8.12/lib/python3.8/http/client.py\", line 1105, in putrequest\n",
      "    self._output(self._encode_request(request))\n",
      "  File \"/home/erniesg/.pyenv/versions/3.8.12/lib/python3.8/http/client.py\", line 1185, in _encode_request\n",
      "    return request.encode('ascii')\n",
      "UnicodeEncodeError: 'ascii' codec can't encode character '\\xe9' in position 31: ordinal not in range(128)\n",
      "\n",
      " 31%|███████████████████████▊                                                     | 1272/4119 [30:08<1:03:58,  1.35s/it]ERROR:root:Traceback (most recent call last):\n",
      "  File \"/tmp/ipykernel_1884/2130755272.py\", line 8, in download\n",
      "    urllib.request.urlretrieve(url, path/fname)\n",
      "  File \"/home/erniesg/.pyenv/versions/3.8.12/lib/python3.8/urllib/request.py\", line 247, in urlretrieve\n",
      "    with contextlib.closing(urlopen(url, data)) as fp:\n",
      "  File \"/home/erniesg/.pyenv/versions/3.8.12/lib/python3.8/urllib/request.py\", line 222, in urlopen\n",
      "    return opener.open(url, data, timeout)\n",
      "  File \"/home/erniesg/.pyenv/versions/3.8.12/lib/python3.8/urllib/request.py\", line 525, in open\n",
      "    response = self._open(req, data)\n",
      "  File \"/home/erniesg/.pyenv/versions/3.8.12/lib/python3.8/urllib/request.py\", line 542, in _open\n",
      "    result = self._call_chain(self.handle_open, protocol, protocol +\n",
      "  File \"/home/erniesg/.pyenv/versions/3.8.12/lib/python3.8/urllib/request.py\", line 502, in _call_chain\n",
      "    result = func(*args)\n",
      "  File \"/home/erniesg/.pyenv/versions/3.8.12/lib/python3.8/urllib/request.py\", line 1397, in https_open\n",
      "    return self.do_open(http.client.HTTPSConnection, req,\n",
      "  File \"/home/erniesg/.pyenv/versions/3.8.12/lib/python3.8/urllib/request.py\", line 1354, in do_open\n",
      "    h.request(req.get_method(), req.selector, req.data, headers,\n",
      "  File \"/home/erniesg/.pyenv/versions/3.8.12/lib/python3.8/http/client.py\", line 1256, in request\n",
      "    self._send_request(method, url, body, headers, encode_chunked)\n",
      "  File \"/home/erniesg/.pyenv/versions/3.8.12/lib/python3.8/http/client.py\", line 1267, in _send_request\n",
      "    self.putrequest(method, url, **skips)\n",
      "  File \"/home/erniesg/.pyenv/versions/3.8.12/lib/python3.8/http/client.py\", line 1105, in putrequest\n",
      "    self._output(self._encode_request(request))\n",
      "  File \"/home/erniesg/.pyenv/versions/3.8.12/lib/python3.8/http/client.py\", line 1185, in _encode_request\n",
      "    return request.encode('ascii')\n",
      "UnicodeEncodeError: 'ascii' codec can't encode character '\\xfc' in position 23: ordinal not in range(128)\n",
      "\n"
     ]
    },
    {
     "name": "stderr",
     "output_type": "stream",
     "text": [
      " 32%|█████████████████████████▋                                                     | 1337/4119 [31:43<59:04,  1.27s/it]ERROR:root:Traceback (most recent call last):\n",
      "  File \"/tmp/ipykernel_1884/2130755272.py\", line 8, in download\n",
      "    urllib.request.urlretrieve(url, path/fname)\n",
      "  File \"/home/erniesg/.pyenv/versions/3.8.12/lib/python3.8/urllib/request.py\", line 247, in urlretrieve\n",
      "    with contextlib.closing(urlopen(url, data)) as fp:\n",
      "  File \"/home/erniesg/.pyenv/versions/3.8.12/lib/python3.8/urllib/request.py\", line 222, in urlopen\n",
      "    return opener.open(url, data, timeout)\n",
      "  File \"/home/erniesg/.pyenv/versions/3.8.12/lib/python3.8/urllib/request.py\", line 525, in open\n",
      "    response = self._open(req, data)\n",
      "  File \"/home/erniesg/.pyenv/versions/3.8.12/lib/python3.8/urllib/request.py\", line 542, in _open\n",
      "    result = self._call_chain(self.handle_open, protocol, protocol +\n",
      "  File \"/home/erniesg/.pyenv/versions/3.8.12/lib/python3.8/urllib/request.py\", line 502, in _call_chain\n",
      "    result = func(*args)\n",
      "  File \"/home/erniesg/.pyenv/versions/3.8.12/lib/python3.8/urllib/request.py\", line 1397, in https_open\n",
      "    return self.do_open(http.client.HTTPSConnection, req,\n",
      "  File \"/home/erniesg/.pyenv/versions/3.8.12/lib/python3.8/urllib/request.py\", line 1354, in do_open\n",
      "    h.request(req.get_method(), req.selector, req.data, headers,\n",
      "  File \"/home/erniesg/.pyenv/versions/3.8.12/lib/python3.8/http/client.py\", line 1256, in request\n",
      "    self._send_request(method, url, body, headers, encode_chunked)\n",
      "  File \"/home/erniesg/.pyenv/versions/3.8.12/lib/python3.8/http/client.py\", line 1267, in _send_request\n",
      "    self.putrequest(method, url, **skips)\n",
      "  File \"/home/erniesg/.pyenv/versions/3.8.12/lib/python3.8/http/client.py\", line 1105, in putrequest\n",
      "    self._output(self._encode_request(request))\n",
      "  File \"/home/erniesg/.pyenv/versions/3.8.12/lib/python3.8/http/client.py\", line 1185, in _encode_request\n",
      "    return request.encode('ascii')\n",
      "UnicodeEncodeError: 'ascii' codec can't encode character '\\xfc' in position 23: ordinal not in range(128)\n",
      "\n",
      " 44%|██████████████████████████████████▉                                            | 1821/4119 [43:13<58:49,  1.54s/it]ERROR:root:Traceback (most recent call last):\n",
      "  File \"/tmp/ipykernel_1884/2130755272.py\", line 8, in download\n",
      "    urllib.request.urlretrieve(url, path/fname)\n",
      "  File \"/home/erniesg/.pyenv/versions/3.8.12/lib/python3.8/urllib/request.py\", line 247, in urlretrieve\n",
      "    with contextlib.closing(urlopen(url, data)) as fp:\n",
      "  File \"/home/erniesg/.pyenv/versions/3.8.12/lib/python3.8/urllib/request.py\", line 222, in urlopen\n",
      "    return opener.open(url, data, timeout)\n",
      "  File \"/home/erniesg/.pyenv/versions/3.8.12/lib/python3.8/urllib/request.py\", line 525, in open\n",
      "    response = self._open(req, data)\n",
      "  File \"/home/erniesg/.pyenv/versions/3.8.12/lib/python3.8/urllib/request.py\", line 542, in _open\n",
      "    result = self._call_chain(self.handle_open, protocol, protocol +\n",
      "  File \"/home/erniesg/.pyenv/versions/3.8.12/lib/python3.8/urllib/request.py\", line 502, in _call_chain\n",
      "    result = func(*args)\n",
      "  File \"/home/erniesg/.pyenv/versions/3.8.12/lib/python3.8/urllib/request.py\", line 1397, in https_open\n",
      "    return self.do_open(http.client.HTTPSConnection, req,\n",
      "  File \"/home/erniesg/.pyenv/versions/3.8.12/lib/python3.8/urllib/request.py\", line 1354, in do_open\n",
      "    h.request(req.get_method(), req.selector, req.data, headers,\n",
      "  File \"/home/erniesg/.pyenv/versions/3.8.12/lib/python3.8/http/client.py\", line 1256, in request\n",
      "    self._send_request(method, url, body, headers, encode_chunked)\n",
      "  File \"/home/erniesg/.pyenv/versions/3.8.12/lib/python3.8/http/client.py\", line 1267, in _send_request\n",
      "    self.putrequest(method, url, **skips)\n",
      "  File \"/home/erniesg/.pyenv/versions/3.8.12/lib/python3.8/http/client.py\", line 1105, in putrequest\n",
      "    self._output(self._encode_request(request))\n",
      "  File \"/home/erniesg/.pyenv/versions/3.8.12/lib/python3.8/http/client.py\", line 1185, in _encode_request\n",
      "    return request.encode('ascii')\n",
      "UnicodeEncodeError: 'ascii' codec can't encode character '\\xe9' in position 59: ordinal not in range(128)\n",
      "\n",
      " 50%|███████████████████████████████████████▏                                       | 2043/4119 [48:36<45:47,  1.32s/it]ERROR:root:Traceback (most recent call last):\n",
      "  File \"/tmp/ipykernel_1884/2130755272.py\", line 8, in download\n",
      "    urllib.request.urlretrieve(url, path/fname)\n",
      "  File \"/home/erniesg/.pyenv/versions/3.8.12/lib/python3.8/urllib/request.py\", line 247, in urlretrieve\n",
      "    with contextlib.closing(urlopen(url, data)) as fp:\n",
      "  File \"/home/erniesg/.pyenv/versions/3.8.12/lib/python3.8/urllib/request.py\", line 222, in urlopen\n",
      "    return opener.open(url, data, timeout)\n",
      "  File \"/home/erniesg/.pyenv/versions/3.8.12/lib/python3.8/urllib/request.py\", line 525, in open\n",
      "    response = self._open(req, data)\n",
      "  File \"/home/erniesg/.pyenv/versions/3.8.12/lib/python3.8/urllib/request.py\", line 542, in _open\n",
      "    result = self._call_chain(self.handle_open, protocol, protocol +\n",
      "  File \"/home/erniesg/.pyenv/versions/3.8.12/lib/python3.8/urllib/request.py\", line 502, in _call_chain\n",
      "    result = func(*args)\n",
      "  File \"/home/erniesg/.pyenv/versions/3.8.12/lib/python3.8/urllib/request.py\", line 1397, in https_open\n",
      "    return self.do_open(http.client.HTTPSConnection, req,\n",
      "  File \"/home/erniesg/.pyenv/versions/3.8.12/lib/python3.8/urllib/request.py\", line 1354, in do_open\n",
      "    h.request(req.get_method(), req.selector, req.data, headers,\n",
      "  File \"/home/erniesg/.pyenv/versions/3.8.12/lib/python3.8/http/client.py\", line 1256, in request\n",
      "    self._send_request(method, url, body, headers, encode_chunked)\n",
      "  File \"/home/erniesg/.pyenv/versions/3.8.12/lib/python3.8/http/client.py\", line 1267, in _send_request\n",
      "    self.putrequest(method, url, **skips)\n",
      "  File \"/home/erniesg/.pyenv/versions/3.8.12/lib/python3.8/http/client.py\", line 1105, in putrequest\n",
      "    self._output(self._encode_request(request))\n",
      "  File \"/home/erniesg/.pyenv/versions/3.8.12/lib/python3.8/http/client.py\", line 1185, in _encode_request\n",
      "    return request.encode('ascii')\n",
      "UnicodeEncodeError: 'ascii' codec can't encode character '\\xfc' in position 23: ordinal not in range(128)\n",
      "\n",
      " 51%|████████████████████████████████████████▍                                      | 2111/4119 [50:12<46:26,  1.39s/it]ERROR:root:Traceback (most recent call last):\n",
      "  File \"/tmp/ipykernel_1884/2130755272.py\", line 8, in download\n",
      "    urllib.request.urlretrieve(url, path/fname)\n",
      "  File \"/home/erniesg/.pyenv/versions/3.8.12/lib/python3.8/urllib/request.py\", line 247, in urlretrieve\n",
      "    with contextlib.closing(urlopen(url, data)) as fp:\n",
      "  File \"/home/erniesg/.pyenv/versions/3.8.12/lib/python3.8/urllib/request.py\", line 222, in urlopen\n",
      "    return opener.open(url, data, timeout)\n",
      "  File \"/home/erniesg/.pyenv/versions/3.8.12/lib/python3.8/urllib/request.py\", line 525, in open\n",
      "    response = self._open(req, data)\n",
      "  File \"/home/erniesg/.pyenv/versions/3.8.12/lib/python3.8/urllib/request.py\", line 542, in _open\n",
      "    result = self._call_chain(self.handle_open, protocol, protocol +\n",
      "  File \"/home/erniesg/.pyenv/versions/3.8.12/lib/python3.8/urllib/request.py\", line 502, in _call_chain\n",
      "    result = func(*args)\n",
      "  File \"/home/erniesg/.pyenv/versions/3.8.12/lib/python3.8/urllib/request.py\", line 1397, in https_open\n",
      "    return self.do_open(http.client.HTTPSConnection, req,\n",
      "  File \"/home/erniesg/.pyenv/versions/3.8.12/lib/python3.8/urllib/request.py\", line 1354, in do_open\n",
      "    h.request(req.get_method(), req.selector, req.data, headers,\n",
      "  File \"/home/erniesg/.pyenv/versions/3.8.12/lib/python3.8/http/client.py\", line 1256, in request\n",
      "    self._send_request(method, url, body, headers, encode_chunked)\n",
      "  File \"/home/erniesg/.pyenv/versions/3.8.12/lib/python3.8/http/client.py\", line 1267, in _send_request\n",
      "    self.putrequest(method, url, **skips)\n",
      "  File \"/home/erniesg/.pyenv/versions/3.8.12/lib/python3.8/http/client.py\", line 1105, in putrequest\n",
      "    self._output(self._encode_request(request))\n",
      "  File \"/home/erniesg/.pyenv/versions/3.8.12/lib/python3.8/http/client.py\", line 1185, in _encode_request\n",
      "    return request.encode('ascii')\n",
      "UnicodeEncodeError: 'ascii' codec can't encode character '\\xfc' in position 23: ordinal not in range(128)\n",
      "\n"
     ]
    },
    {
     "name": "stderr",
     "output_type": "stream",
     "text": [
      " 52%|█████████████████████████████████████████▎                                     | 2156/4119 [51:12<57:09,  1.75s/it]ERROR:root:Traceback (most recent call last):\n",
      "  File \"/tmp/ipykernel_1884/2130755272.py\", line 8, in download\n",
      "    urllib.request.urlretrieve(url, path/fname)\n",
      "  File \"/home/erniesg/.pyenv/versions/3.8.12/lib/python3.8/urllib/request.py\", line 247, in urlretrieve\n",
      "    with contextlib.closing(urlopen(url, data)) as fp:\n",
      "  File \"/home/erniesg/.pyenv/versions/3.8.12/lib/python3.8/urllib/request.py\", line 222, in urlopen\n",
      "    return opener.open(url, data, timeout)\n",
      "  File \"/home/erniesg/.pyenv/versions/3.8.12/lib/python3.8/urllib/request.py\", line 525, in open\n",
      "    response = self._open(req, data)\n",
      "  File \"/home/erniesg/.pyenv/versions/3.8.12/lib/python3.8/urllib/request.py\", line 542, in _open\n",
      "    result = self._call_chain(self.handle_open, protocol, protocol +\n",
      "  File \"/home/erniesg/.pyenv/versions/3.8.12/lib/python3.8/urllib/request.py\", line 502, in _call_chain\n",
      "    result = func(*args)\n",
      "  File \"/home/erniesg/.pyenv/versions/3.8.12/lib/python3.8/urllib/request.py\", line 1397, in https_open\n",
      "    return self.do_open(http.client.HTTPSConnection, req,\n",
      "  File \"/home/erniesg/.pyenv/versions/3.8.12/lib/python3.8/urllib/request.py\", line 1354, in do_open\n",
      "    h.request(req.get_method(), req.selector, req.data, headers,\n",
      "  File \"/home/erniesg/.pyenv/versions/3.8.12/lib/python3.8/http/client.py\", line 1256, in request\n",
      "    self._send_request(method, url, body, headers, encode_chunked)\n",
      "  File \"/home/erniesg/.pyenv/versions/3.8.12/lib/python3.8/http/client.py\", line 1267, in _send_request\n",
      "    self.putrequest(method, url, **skips)\n",
      "  File \"/home/erniesg/.pyenv/versions/3.8.12/lib/python3.8/http/client.py\", line 1105, in putrequest\n",
      "    self._output(self._encode_request(request))\n",
      "  File \"/home/erniesg/.pyenv/versions/3.8.12/lib/python3.8/http/client.py\", line 1185, in _encode_request\n",
      "    return request.encode('ascii')\n",
      "UnicodeEncodeError: 'ascii' codec can't encode character '\\xe9' in position 59: ordinal not in range(128)\n",
      "\n",
      " 93%|███████████████████████████████████████████████████████████████████████▋     | 3837/4119 [1:31:52<05:26,  1.16s/it]ERROR:root:Traceback (most recent call last):\n",
      "  File \"/tmp/ipykernel_1884/2130755272.py\", line 8, in download\n",
      "    urllib.request.urlretrieve(url, path/fname)\n",
      "  File \"/home/erniesg/.pyenv/versions/3.8.12/lib/python3.8/urllib/request.py\", line 247, in urlretrieve\n",
      "    with contextlib.closing(urlopen(url, data)) as fp:\n",
      "  File \"/home/erniesg/.pyenv/versions/3.8.12/lib/python3.8/urllib/request.py\", line 222, in urlopen\n",
      "    return opener.open(url, data, timeout)\n",
      "  File \"/home/erniesg/.pyenv/versions/3.8.12/lib/python3.8/urllib/request.py\", line 525, in open\n",
      "    response = self._open(req, data)\n",
      "  File \"/home/erniesg/.pyenv/versions/3.8.12/lib/python3.8/urllib/request.py\", line 542, in _open\n",
      "    result = self._call_chain(self.handle_open, protocol, protocol +\n",
      "  File \"/home/erniesg/.pyenv/versions/3.8.12/lib/python3.8/urllib/request.py\", line 502, in _call_chain\n",
      "    result = func(*args)\n",
      "  File \"/home/erniesg/.pyenv/versions/3.8.12/lib/python3.8/urllib/request.py\", line 1397, in https_open\n",
      "    return self.do_open(http.client.HTTPSConnection, req,\n",
      "  File \"/home/erniesg/.pyenv/versions/3.8.12/lib/python3.8/urllib/request.py\", line 1354, in do_open\n",
      "    h.request(req.get_method(), req.selector, req.data, headers,\n",
      "  File \"/home/erniesg/.pyenv/versions/3.8.12/lib/python3.8/http/client.py\", line 1256, in request\n",
      "    self._send_request(method, url, body, headers, encode_chunked)\n",
      "  File \"/home/erniesg/.pyenv/versions/3.8.12/lib/python3.8/http/client.py\", line 1267, in _send_request\n",
      "    self.putrequest(method, url, **skips)\n",
      "  File \"/home/erniesg/.pyenv/versions/3.8.12/lib/python3.8/http/client.py\", line 1105, in putrequest\n",
      "    self._output(self._encode_request(request))\n",
      "  File \"/home/erniesg/.pyenv/versions/3.8.12/lib/python3.8/http/client.py\", line 1185, in _encode_request\n",
      "    return request.encode('ascii')\n",
      "UnicodeEncodeError: 'ascii' codec can't encode character '\\xe8' in position 67: ordinal not in range(128)\n",
      "\n",
      "100%|█████████████████████████████████████████████████████████████████████████████| 4119/4119 [1:38:34<00:00,  1.44s/it]\n"
     ]
    }
   ],
   "source": [
    "#ipdb.set_trace()\n",
    "download(IMG_DIR, urls)"
   ]
  },
  {
   "cell_type": "markdown",
   "id": "75a16c29",
   "metadata": {},
   "source": [
    "# Extract colours from the paintings"
   ]
  },
  {
   "cell_type": "code",
   "execution_count": null,
   "id": "7b538afa",
   "metadata": {},
   "outputs": [],
   "source": []
  },
  {
   "cell_type": "code",
   "execution_count": 41,
   "id": "fd636ae4",
   "metadata": {
    "ExecuteTime": {
     "end_time": "2022-08-15T15:45:05.423776Z",
     "start_time": "2022-08-15T15:45:05.404744Z"
    }
   },
   "outputs": [
    {
     "name": "stdout",
     "output_type": "stream",
     "text": [
      "The type of this input is <class 'NoneType'>\n"
     ]
    },
    {
     "name": "stderr",
     "output_type": "stream",
     "text": [
      "[ WARN:0@7002.883] global /io/opencv/modules/imgcodecs/src/loadsave.cpp (239) findDecoder imread_('https://uploads3.wikiart.org/00123/images/charles-courtney-curran/in-the-luxembourg-garden-1889.jpg'): can't open/read file: check file path/integrity\n"
     ]
    },
    {
     "ename": "AttributeError",
     "evalue": "'NoneType' object has no attribute 'shape'",
     "output_type": "error",
     "traceback": [
      "\u001b[0;31m---------------------------------------------------------------------------\u001b[0m",
      "\u001b[0;31mAttributeError\u001b[0m                            Traceback (most recent call last)",
      "\u001b[0;32m/tmp/ipykernel_1884/591353129.py\u001b[0m in \u001b[0;36m<module>\u001b[0;34m\u001b[0m\n\u001b[1;32m      1\u001b[0m \u001b[0mimage\u001b[0m \u001b[0;34m=\u001b[0m \u001b[0mcv2\u001b[0m\u001b[0;34m.\u001b[0m\u001b[0mimread\u001b[0m\u001b[0;34m(\u001b[0m\u001b[0;34m'https://uploads3.wikiart.org/00123/images/charles-courtney-curran/in-the-luxembourg-garden-1889.jpg'\u001b[0m\u001b[0;34m)\u001b[0m\u001b[0;34m\u001b[0m\u001b[0;34m\u001b[0m\u001b[0m\n\u001b[1;32m      2\u001b[0m \u001b[0mprint\u001b[0m\u001b[0;34m(\u001b[0m\u001b[0;34m\"The type of this input is {}\"\u001b[0m\u001b[0;34m.\u001b[0m\u001b[0mformat\u001b[0m\u001b[0;34m(\u001b[0m\u001b[0mtype\u001b[0m\u001b[0;34m(\u001b[0m\u001b[0mimage\u001b[0m\u001b[0;34m)\u001b[0m\u001b[0;34m)\u001b[0m\u001b[0;34m)\u001b[0m\u001b[0;34m\u001b[0m\u001b[0;34m\u001b[0m\u001b[0m\n\u001b[0;32m----> 3\u001b[0;31m \u001b[0mprint\u001b[0m\u001b[0;34m(\u001b[0m\u001b[0;34m\"Shape: {}\"\u001b[0m\u001b[0;34m.\u001b[0m\u001b[0mformat\u001b[0m\u001b[0;34m(\u001b[0m\u001b[0mimage\u001b[0m\u001b[0;34m.\u001b[0m\u001b[0mshape\u001b[0m\u001b[0;34m)\u001b[0m\u001b[0;34m)\u001b[0m\u001b[0;34m\u001b[0m\u001b[0;34m\u001b[0m\u001b[0m\n\u001b[0m\u001b[1;32m      4\u001b[0m \u001b[0mplt\u001b[0m\u001b[0;34m.\u001b[0m\u001b[0mimshow\u001b[0m\u001b[0;34m(\u001b[0m\u001b[0mimage\u001b[0m\u001b[0;34m)\u001b[0m\u001b[0;34m\u001b[0m\u001b[0;34m\u001b[0m\u001b[0m\n",
      "\u001b[0;31mAttributeError\u001b[0m: 'NoneType' object has no attribute 'shape'"
     ]
    }
   ],
   "source": [
    "image = cv2.imread('sample_image.jpg')\n",
    "#image = io.imread('https://uploads3.wikiart.org/00123/images/charles-courtney-curran/in-the-luxembourg-garden-1889.jpg')\n",
    "#image = cv2.imread('https://uploads3.wikiart.org/00123/images/charles-courtney-curran/in-the-luxembourg-garden-1889.jpg')\n",
    "\n",
    "print(\"The type of this input is {}\".format(type(image)))\n",
    "print(\"Shape: {}\".format(image.shape))\n",
    "plt.imshow(image)"
   ]
  },
  {
   "cell_type": "code",
   "execution_count": null,
   "id": "dead6c61",
   "metadata": {
    "ExecuteTime": {
     "end_time": "2022-08-06T08:58:39.937453Z",
     "start_time": "2022-08-06T08:58:39.937434Z"
    }
   },
   "outputs": [],
   "source": [
    "gray_image = cv2.cvtColor(image, cv2.COLOR_BGR2GRAY)\n",
    "plt.imshow(gray_image, cmap='gray')"
   ]
  },
  {
   "cell_type": "code",
   "execution_count": null,
   "id": "a36e4e85",
   "metadata": {
    "ExecuteTime": {
     "end_time": "2022-08-06T08:58:39.939480Z",
     "start_time": "2022-08-06T08:58:39.939458Z"
    }
   },
   "outputs": [],
   "source": [
    "def RGB2HEX(color):\n",
    "    return \"#{:02x}{:02x}{:02x}\".format(int(color[0]), int(color[1]), int(color[2]))"
   ]
  },
  {
   "cell_type": "code",
   "execution_count": null,
   "id": "e6dc74c8",
   "metadata": {},
   "outputs": [],
   "source": [
    "def get_image(image_path):\n",
    "    image = cv2.imread(image_path)\n",
    "    image = cv2.cvtColor(image, cv2.COLOR_BGR2RGB)\n",
    "    return image"
   ]
  },
  {
   "cell_type": "code",
   "execution_count": null,
   "id": "f6017817",
   "metadata": {},
   "outputs": [],
   "source": [
    "def get_colors(image, number_of_colors, show_chart):\n",
    "    \n",
    "    modified_image = image.reshape(image.shape[0]*image.shape[1], 3)\n",
    "    \n",
    "    clf = KMeans(n_clusters = number_of_colors)\n",
    "    labels = clf.fit_predict(modified_image)\n",
    "    \n",
    "    counts = Counter(labels)\n",
    "    # sort to ensure correct color percentage\n",
    "    counts = dict(sorted(counts.items()))\n",
    "    \n",
    "    center_colors = clf.cluster_centers_\n",
    "    # We get ordered colors by iterating through the keys\n",
    "    ordered_colors = [center_colors[i] for i in counts.keys()]\n",
    "    hex_colors = [RGB2HEX(ordered_colors[i]) for i in counts.keys()]\n",
    "    rgb_colors = [ordered_colors[i] for i in counts.keys()]\n",
    "\n",
    "    if (show_chart):\n",
    "        plt.figure(figsize = (8, 6))\n",
    "        plt.pie(counts.values(), labels = hex_colors, colors = hex_colors)\n",
    "    \n",
    "    return rgb_colors"
   ]
  },
  {
   "cell_type": "code",
   "execution_count": null,
   "id": "e422bdc5",
   "metadata": {},
   "outputs": [],
   "source": [
    "get_colors(get_image(\"2011-01580.jpg\"), 7, True)"
   ]
  },
  {
   "cell_type": "markdown",
   "id": "519f836b",
   "metadata": {},
   "source": [
    "# Search with colour"
   ]
  },
  {
   "cell_type": "code",
   "execution_count": null,
   "id": "2e71f5c1",
   "metadata": {},
   "outputs": [],
   "source": [
    "IMAGE_DIRECTORY = 'images'\n",
    "COLORS = {\n",
    "    'GREEN': [0, 128, 0],\n",
    "    'BLUE': [0, 0, 128],\n",
    "    'YELLOW': [255, 255, 0]\n",
    "}\n",
    "images = []\n",
    "\n",
    "for file in os.listdir(IMAGE_DIRECTORY):\n",
    "    if not file.startswith('.'):\n",
    "        images.append(get_image(os.path.join(IMAGE_DIRECTORY, file)))"
   ]
  },
  {
   "cell_type": "code",
   "execution_count": null,
   "id": "d720b172",
   "metadata": {},
   "outputs": [],
   "source": [
    "plt.figure(figsize=(20, 10))\n",
    "for i in range(len(images)):\n",
    "    plt.subplot(1, len(images), i+1)\n",
    "    plt.imshow(images[i])"
   ]
  },
  {
   "cell_type": "code",
   "execution_count": null,
   "id": "987a3a17",
   "metadata": {},
   "outputs": [],
   "source": [
    "def match_image_by_color(image, color, threshold = 60, number_of_colors = 10): \n",
    "    \n",
    "    image_colors = get_colors(image, number_of_colors, False)\n",
    "    selected_color = rgb2lab(np.uint8(np.asarray([[color]])))\n",
    "\n",
    "    select_image = False\n",
    "    for i in range(number_of_colors):\n",
    "        curr_color = rgb2lab(np.uint8(np.asarray([[image_colors[i]]])))\n",
    "        diff = deltaE_cie76(selected_color, curr_color)\n",
    "        if (diff < threshold):\n",
    "            select_image = True\n",
    "    \n",
    "    return select_image"
   ]
  },
  {
   "cell_type": "code",
   "execution_count": null,
   "id": "e746202b",
   "metadata": {},
   "outputs": [],
   "source": [
    "def show_selected_images(images, color, threshold, colors_to_match):\n",
    "    index = 1\n",
    "    \n",
    "    for i in range(len(images)):\n",
    "        selected = match_image_by_color(images[i],\n",
    "                                        color,\n",
    "                                        threshold,\n",
    "                                        colors_to_match)\n",
    "        if (selected):\n",
    "            plt.subplot(1, 5, index)\n",
    "            plt.imshow(images[i])\n",
    "            index += 1"
   ]
  },
  {
   "cell_type": "code",
   "execution_count": null,
   "id": "eee6abcb",
   "metadata": {},
   "outputs": [],
   "source": [
    "# Search for GREEN\n",
    "plt.figure(figsize = (20, 10))\n",
    "show_selected_images(images, COLORS['GREEN'], 60, 5)"
   ]
  },
  {
   "cell_type": "code",
   "execution_count": null,
   "id": "97ae68c8",
   "metadata": {},
   "outputs": [],
   "source": [
    "# Search for BLUE\n",
    "plt.figure(figsize = (20, 10))\n",
    "show_selected_images(images, COLORS['BLUE'], 60, 5)"
   ]
  },
  {
   "cell_type": "code",
   "execution_count": null,
   "id": "0c455503",
   "metadata": {},
   "outputs": [],
   "source": [
    "# Search for YELLOW\n",
    "plt.figure(figsize = (20, 10))\n",
    "show_selected_images(images, COLORS['YELLOW'], 60, 5)"
   ]
  }
 ],
 "metadata": {
  "kernelspec": {
   "display_name": "Python 3 (ipykernel)",
   "language": "python",
   "name": "python3"
  },
  "language_info": {
   "codemirror_mode": {
    "name": "ipython",
    "version": 3
   },
   "file_extension": ".py",
   "mimetype": "text/x-python",
   "name": "python",
   "nbconvert_exporter": "python",
   "pygments_lexer": "ipython3",
   "version": "3.8.12"
  },
  "toc": {
   "base_numbering": 1,
   "nav_menu": {},
   "number_sections": true,
   "sideBar": true,
   "skip_h1_title": false,
   "title_cell": "Table of Contents",
   "title_sidebar": "Contents",
   "toc_cell": false,
   "toc_position": {},
   "toc_section_display": true,
   "toc_window_display": false
  }
 },
 "nbformat": 4,
 "nbformat_minor": 5
}

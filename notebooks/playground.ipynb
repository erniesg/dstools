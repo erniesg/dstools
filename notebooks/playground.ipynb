{
 "cells": [
  {
   "cell_type": "code",
   "execution_count": 1,
   "id": "b63613a8",
   "metadata": {
    "ExecuteTime": {
     "end_time": "2022-08-06T08:58:33.561637Z",
     "start_time": "2022-08-06T08:58:32.579780Z"
    }
   },
   "outputs": [],
   "source": [
    "%matplotlib inline\n",
    "%reload_ext autoreload\n",
    "%autoreload 2"
   ]
  },
  {
   "cell_type": "markdown",
   "id": "dc7f4ea7",
   "metadata": {},
   "source": [
    "# Load requirements"
   ]
  },
  {
   "cell_type": "code",
   "execution_count": 10,
   "id": "ee1853f9",
   "metadata": {
    "ExecuteTime": {
     "end_time": "2022-08-06T09:06:54.428570Z",
     "start_time": "2022-08-06T09:06:54.408450Z"
    }
   },
   "outputs": [],
   "source": [
    "import pandas as pd\n",
    "import pathlib\n",
    "import matplotlib as pyplt\n",
    "import cv2\n",
    "import os\n",
    "import ssl\n",
    "import traceback\n",
    "import logging\n",
    "import tqdm\n",
    "import urllib"
   ]
  },
  {
   "cell_type": "code",
   "execution_count": 3,
   "id": "8ef70be2",
   "metadata": {
    "ExecuteTime": {
     "end_time": "2022-08-06T08:58:34.071383Z",
     "start_time": "2022-08-06T08:58:34.053111Z"
    },
    "scrolled": true
   },
   "outputs": [],
   "source": [
    "#DATA_DIR = os.path.join(os.path.dirname (\"__file__\"), os.path.pardir)\n",
    "\n",
    "#os.chdir(DATA_DIR)\n",
    "# print(f\"the root directory is {ROOT_DIR}\")\n",
    "# print(f\"the data directory is {DATA_DIR}\")\n",
    "# os.chdir(DATA_DIR)\n",
    "# !ls"
   ]
  },
  {
   "cell_type": "code",
   "execution_count": 4,
   "id": "6835847f",
   "metadata": {
    "ExecuteTime": {
     "end_time": "2022-08-06T08:58:34.102415Z",
     "start_time": "2022-08-06T08:58:34.073919Z"
    }
   },
   "outputs": [],
   "source": [
    "def get_data():\n",
    "    # use a subset of data from WikiArt for training\n",
    "    !curl -O http://saifmohammad.com/WebDocs/WikiArt-Emotions.zip\n",
    "    !unzip -o WikiArt-Emotions.zip\n",
    "    !rm WikiArt-Emotions.zip\n",
    "    !mv WikiArt-Emotions ../raw_data/WikiArt-Emotions\n",
    "    !ls\n",
    "    ROOT_DIR = os.path.join(os.path.dirname (\"__file__\"), os.path.pardir)\n",
    "    DATA_DIR = os.path.join(ROOT_DIR, \"raw_data\")\n",
    "    os.chdir(DATA_DIR)\n",
    "    !ls\n",
    "    df = pd.read_csv('WikiArt-Emotions/WikiArt-info.tsv', delimiter='\\t'); df.head()\n",
    "    return df"
   ]
  },
  {
   "cell_type": "code",
   "execution_count": 5,
   "id": "32af6ac2",
   "metadata": {
    "ExecuteTime": {
     "end_time": "2022-08-06T08:58:39.194820Z",
     "start_time": "2022-08-06T08:58:34.105725Z"
    }
   },
   "outputs": [
    {
     "name": "stdout",
     "output_type": "stream",
     "text": [
      "  % Total    % Received % Xferd  Average Speed   Time    Time     Time  Current\n",
      "                                 Dload  Upload   Total   Spent    Left  Speed\n",
      "100 1901k  100 1901k    0     0   452k      0  0:00:04  0:00:04 --:--:--  453k\n",
      "Archive:  WikiArt-Emotions.zip\n",
      "   creating: WikiArt-Emotions/\n",
      "  inflating: __MACOSX/._WikiArt-Emotions  \n",
      "  inflating: WikiArt-Emotions/WikiArt-Emotions-All.tsv  \n",
      "  inflating: __MACOSX/WikiArt-Emotions/._WikiArt-Emotions-All.tsv  \n",
      "  inflating: WikiArt-Emotions/WikiArt-annotations.csv  \n",
      "  inflating: __MACOSX/WikiArt-Emotions/._WikiArt-annotations.csv  \n",
      "  inflating: WikiArt-Emotions/WikiArt-info.tsv  \n",
      "  inflating: __MACOSX/WikiArt-Emotions/._WikiArt-info.tsv  \n",
      "  inflating: WikiArt-Emotions/README.txt  \n",
      "  inflating: __MACOSX/WikiArt-Emotions/._README.txt  \n",
      "  inflating: WikiArt-Emotions/WikiArt-Emotions-Ag5.tsv  \n",
      "  inflating: __MACOSX/WikiArt-Emotions/._WikiArt-Emotions-Ag5.tsv  \n",
      "  inflating: WikiArt-Emotions/WikiArt-Emotions-Ag4.tsv  \n",
      "  inflating: __MACOSX/WikiArt-Emotions/._WikiArt-Emotions-Ag4.tsv  \n",
      "  inflating: WikiArt-Emotions/WikiArt-Emotions-Ag3.tsv  \n",
      "  inflating: __MACOSX/WikiArt-Emotions/._WikiArt-Emotions-Ag3.tsv  \n",
      "\u001b[1m\u001b[36m__MACOSX\u001b[m\u001b[m         playground.ipynb\n",
      "\u001b[1m\u001b[36mWikiArt-Emotions\u001b[m\u001b[m \u001b[1m\u001b[36mtest\u001b[m\u001b[m\n"
     ]
    }
   ],
   "source": [
    "df = get_data()"
   ]
  },
  {
   "cell_type": "code",
   "execution_count": 6,
   "id": "5187b7e0",
   "metadata": {
    "ExecuteTime": {
     "end_time": "2022-08-06T08:58:39.239936Z",
     "start_time": "2022-08-06T08:58:39.198217Z"
    }
   },
   "outputs": [
    {
     "data": {
      "text/html": [
       "<div>\n",
       "<style scoped>\n",
       "    .dataframe tbody tr th:only-of-type {\n",
       "        vertical-align: middle;\n",
       "    }\n",
       "\n",
       "    .dataframe tbody tr th {\n",
       "        vertical-align: top;\n",
       "    }\n",
       "\n",
       "    .dataframe thead th {\n",
       "        text-align: right;\n",
       "    }\n",
       "</style>\n",
       "<table border=\"1\" class=\"dataframe\">\n",
       "  <thead>\n",
       "    <tr style=\"text-align: right;\">\n",
       "      <th></th>\n",
       "      <th>ID</th>\n",
       "      <th>Category</th>\n",
       "      <th>Artist</th>\n",
       "      <th>Title</th>\n",
       "      <th>Year</th>\n",
       "      <th>Image URL</th>\n",
       "      <th>Painting Info URL</th>\n",
       "      <th>Artist Info URL</th>\n",
       "    </tr>\n",
       "  </thead>\n",
       "  <tbody>\n",
       "    <tr>\n",
       "      <th>0</th>\n",
       "      <td>58c6237dedc2c9c7dc0de1ae</td>\n",
       "      <td>Impressionism</td>\n",
       "      <td>Charles Courtney Curran</td>\n",
       "      <td>In the Luxembourg Garden</td>\n",
       "      <td>1889</td>\n",
       "      <td>https://uploads3.wikiart.org/00123/images/char...</td>\n",
       "      <td>https://www.wikiart.org/en/charles-courtney-cu...</td>\n",
       "      <td>https://www.wikiart.org/en/charles-courtney-cu...</td>\n",
       "    </tr>\n",
       "    <tr>\n",
       "      <th>1</th>\n",
       "      <td>577280dfedc2cb3880f28e76</td>\n",
       "      <td>Neo-Expressionism</td>\n",
       "      <td>Keith Haring</td>\n",
       "      <td>The Marriage of Heaven and Hell</td>\n",
       "      <td>1984</td>\n",
       "      <td>https://uploads1.wikiart.org/images/keith-hari...</td>\n",
       "      <td>https://www.wikiart.org/en/keith-haring/the-ma...</td>\n",
       "      <td>https://www.wikiart.org/en/keith-haring</td>\n",
       "    </tr>\n",
       "    <tr>\n",
       "      <th>2</th>\n",
       "      <td>57727f2dedc2cb3880ed5fa9</td>\n",
       "      <td>Post-Impressionism</td>\n",
       "      <td>Jozsef Rippl-Ronai</td>\n",
       "      <td>Uncle Piacsek in front of the Black Sideboard</td>\n",
       "      <td>1906</td>\n",
       "      <td>https://uploads3.wikiart.org/images/j-zsef-rip...</td>\n",
       "      <td>https://www.wikiart.org/en/jozsef-rippl-ronai/...</td>\n",
       "      <td>https://www.wikiart.org/en/jozsef-rippl-ronai</td>\n",
       "    </tr>\n",
       "    <tr>\n",
       "      <th>3</th>\n",
       "      <td>58d1240cedc2c94f900fc610</td>\n",
       "      <td>Cubism</td>\n",
       "      <td>Vadym Meller</td>\n",
       "      <td>Monk. For the Play &amp;#39;Mazeppa&amp;#39;</td>\n",
       "      <td>1920</td>\n",
       "      <td>https://uploads2.wikiart.org/00124/images/vady...</td>\n",
       "      <td>https://www.wikiart.org/en/vadym-meller/monk-f...</td>\n",
       "      <td>https://www.wikiart.org/en/vadym-meller</td>\n",
       "    </tr>\n",
       "    <tr>\n",
       "      <th>4</th>\n",
       "      <td>57727de7edc2cb3880e91f26</td>\n",
       "      <td>Romanticism</td>\n",
       "      <td>David Wilkie</td>\n",
       "      <td>The Defence of Sarago&amp;#231;a</td>\n",
       "      <td>1828</td>\n",
       "      <td>https://uploads6.wikiart.org/images/david-wilk...</td>\n",
       "      <td>https://www.wikiart.org/en/david-wilkie/the-de...</td>\n",
       "      <td>https://www.wikiart.org/en/david-wilkie</td>\n",
       "    </tr>\n",
       "  </tbody>\n",
       "</table>\n",
       "</div>"
      ],
      "text/plain": [
       "                         ID            Category                   Artist  \\\n",
       "0  58c6237dedc2c9c7dc0de1ae       Impressionism  Charles Courtney Curran   \n",
       "1  577280dfedc2cb3880f28e76   Neo-Expressionism             Keith Haring   \n",
       "2  57727f2dedc2cb3880ed5fa9  Post-Impressionism       Jozsef Rippl-Ronai   \n",
       "3  58d1240cedc2c94f900fc610              Cubism             Vadym Meller   \n",
       "4  57727de7edc2cb3880e91f26         Romanticism             David Wilkie   \n",
       "\n",
       "                                           Title  Year  \\\n",
       "0                       In the Luxembourg Garden  1889   \n",
       "1                The Marriage of Heaven and Hell  1984   \n",
       "2  Uncle Piacsek in front of the Black Sideboard  1906   \n",
       "3           Monk. For the Play &#39;Mazeppa&#39;  1920   \n",
       "4                   The Defence of Sarago&#231;a  1828   \n",
       "\n",
       "                                           Image URL  \\\n",
       "0  https://uploads3.wikiart.org/00123/images/char...   \n",
       "1  https://uploads1.wikiart.org/images/keith-hari...   \n",
       "2  https://uploads3.wikiart.org/images/j-zsef-rip...   \n",
       "3  https://uploads2.wikiart.org/00124/images/vady...   \n",
       "4  https://uploads6.wikiart.org/images/david-wilk...   \n",
       "\n",
       "                                   Painting Info URL  \\\n",
       "0  https://www.wikiart.org/en/charles-courtney-cu...   \n",
       "1  https://www.wikiart.org/en/keith-haring/the-ma...   \n",
       "2  https://www.wikiart.org/en/jozsef-rippl-ronai/...   \n",
       "3  https://www.wikiart.org/en/vadym-meller/monk-f...   \n",
       "4  https://www.wikiart.org/en/david-wilkie/the-de...   \n",
       "\n",
       "                                     Artist Info URL  \n",
       "0  https://www.wikiart.org/en/charles-courtney-cu...  \n",
       "1            https://www.wikiart.org/en/keith-haring  \n",
       "2      https://www.wikiart.org/en/jozsef-rippl-ronai  \n",
       "3            https://www.wikiart.org/en/vadym-meller  \n",
       "4            https://www.wikiart.org/en/david-wilkie  "
      ]
     },
     "execution_count": 6,
     "metadata": {},
     "output_type": "execute_result"
    }
   ],
   "source": [
    "df.head()"
   ]
  },
  {
   "cell_type": "code",
   "execution_count": 13,
   "id": "4942b94b",
   "metadata": {
    "ExecuteTime": {
     "end_time": "2022-08-06T09:08:45.085595Z",
     "start_time": "2022-08-06T09:08:45.063316Z"
    }
   },
   "outputs": [
    {
     "data": {
      "text/plain": [
       "['https://uploads3.wikiart.org/00123/images/charles-courtney-curran/in-the-luxembourg-garden-1889.jpg',\n",
       " 'https://uploads1.wikiart.org/images/keith-haring/the-marriage-of-heaven-and-hell-1984.jpg',\n",
       " 'https://uploads3.wikiart.org/images/j-zsef-rippl-r-nai/uncle-piacsek-in-front-of-the-black-sideboard-1906.jpg',\n",
       " 'https://uploads2.wikiart.org/00124/images/vadym-meller/monk-for-the-play-mazeppa-1920.jpg',\n",
       " 'https://uploads6.wikiart.org/images/david-wilkie/the-defence-of-sarago-a.jpg']"
      ]
     },
     "execution_count": 13,
     "metadata": {},
     "output_type": "execute_result"
    }
   ],
   "source": [
    "urls = df['Image URL'].tolist(); urls[:5]\n",
    "for url in urls:\n",
    "    fname = url[url.rfind('/')+1:]\n",
    "#    urllib.request.urlretrieve(url, path/fname)"
   ]
  },
  {
   "cell_type": "markdown",
   "id": "ae3f36c0",
   "metadata": {},
   "source": [
    "## Download images"
   ]
  },
  {
   "cell_type": "code",
   "execution_count": 8,
   "id": "8ccfc7cb",
   "metadata": {
    "ExecuteTime": {
     "end_time": "2022-08-06T08:58:39.931565Z",
     "start_time": "2022-08-06T08:58:39.280875Z"
    }
   },
   "outputs": [
    {
     "ename": "NameError",
     "evalue": "name 'PATH' is not defined",
     "output_type": "error",
     "traceback": [
      "\u001b[0;31m---------------------------------------------------------------------------\u001b[0m",
      "\u001b[0;31mNameError\u001b[0m                                 Traceback (most recent call last)",
      "Input \u001b[0;32mIn [8]\u001b[0m, in \u001b[0;36m<cell line: 1>\u001b[0;34m()\u001b[0m\n\u001b[0;32m----> 1\u001b[0m images_path \u001b[38;5;241m=\u001b[39m \u001b[43mPATH\u001b[49m\u001b[38;5;241m/\u001b[39m\u001b[38;5;124m'\u001b[39m\u001b[38;5;124mimages\u001b[39m\u001b[38;5;124m'\u001b[39m\n\u001b[1;32m      2\u001b[0m images_path\u001b[38;5;241m.\u001b[39mmkdir(parents\u001b[38;5;241m=\u001b[39m\u001b[38;5;28;01mTrue\u001b[39;00m, exist_ok\u001b[38;5;241m=\u001b[39m\u001b[38;5;28;01mTrue\u001b[39;00m)\n\u001b[1;32m      4\u001b[0m \u001b[38;5;66;03m# ignore SSL errors\u001b[39;00m\n",
      "\u001b[0;31mNameError\u001b[0m: name 'PATH' is not defined"
     ]
    }
   ],
   "source": [
    "IMG_DIR = os.path.join(DATA_DIR, \"images\")\n",
    "IMG_DIR.mkdir(parents=True, exist_ok=True)"
   ]
  },
  {
   "cell_type": "code",
   "execution_count": null,
   "id": "09c9454a",
   "metadata": {},
   "outputs": [],
   "source": [
    "# ignore SSL errors\n",
    "ssl._create_default_https_context = ssl._create_unverified_context\n",
    "\n",
    "def download(path, urls):\n",
    "    for url in tqdm(urls):\n",
    "        try:\n",
    "            fname = url[url.rfind('/')+1:]\n",
    "            urllib.request.urlretrieve(url, path/fname)\n",
    "        except Exception as e:\n",
    "            logging.error(traceback.format_exc())"
   ]
  },
  {
   "cell_type": "code",
   "execution_count": null,
   "id": "dbb9d7b8",
   "metadata": {
    "ExecuteTime": {
     "end_time": "2022-08-06T08:58:39.934236Z",
     "start_time": "2022-08-06T08:58:39.934216Z"
    }
   },
   "outputs": [],
   "source": [
    "download(images_path, urls)"
   ]
  },
  {
   "cell_type": "markdown",
   "id": "75a16c29",
   "metadata": {},
   "source": [
    "# Extract colours from the paintings"
   ]
  },
  {
   "cell_type": "code",
   "execution_count": null,
   "id": "fd636ae4",
   "metadata": {
    "ExecuteTime": {
     "end_time": "2022-08-06T08:58:39.935970Z",
     "start_time": "2022-08-06T08:58:39.935955Z"
    }
   },
   "outputs": [],
   "source": [
    "image = cv2.imread('https://uploads3.wikiart.org/00123/images/charles-courtney-curran/in-the-luxembourg-garden-1889.jpg')\n",
    "print(\"The type of this input is {}\".format(type(image)))\n",
    "print(\"Shape: {}\".format(image.shape))\n",
    "plt.imshow(image)"
   ]
  },
  {
   "cell_type": "code",
   "execution_count": null,
   "id": "dead6c61",
   "metadata": {
    "ExecuteTime": {
     "end_time": "2022-08-06T08:58:39.937453Z",
     "start_time": "2022-08-06T08:58:39.937434Z"
    }
   },
   "outputs": [],
   "source": [
    "os.getcwd()\n"
   ]
  },
  {
   "cell_type": "code",
   "execution_count": null,
   "id": "a36e4e85",
   "metadata": {
    "ExecuteTime": {
     "end_time": "2022-08-06T08:58:39.939480Z",
     "start_time": "2022-08-06T08:58:39.939458Z"
    }
   },
   "outputs": [],
   "source": [
    "os.fspath(os.getcwd())"
   ]
  },
  {
   "cell_type": "code",
   "execution_count": null,
   "id": "e6dc74c8",
   "metadata": {},
   "outputs": [],
   "source": []
  }
 ],
 "metadata": {
  "kernelspec": {
   "display_name": "Python 3 (ipykernel)",
   "language": "python",
   "name": "python3"
  },
  "language_info": {
   "codemirror_mode": {
    "name": "ipython",
    "version": 3
   },
   "file_extension": ".py",
   "mimetype": "text/x-python",
   "name": "python",
   "nbconvert_exporter": "python",
   "pygments_lexer": "ipython3",
   "version": "3.8.12"
  },
  "toc": {
   "base_numbering": 1,
   "nav_menu": {},
   "number_sections": true,
   "sideBar": true,
   "skip_h1_title": false,
   "title_cell": "Table of Contents",
   "title_sidebar": "Contents",
   "toc_cell": false,
   "toc_position": {},
   "toc_section_display": true,
   "toc_window_display": false
  }
 },
 "nbformat": 4,
 "nbformat_minor": 5
}
